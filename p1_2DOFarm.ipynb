{
 "cells": [
  {
   "cell_type": "code",
   "execution_count": 15,
   "metadata": {},
   "outputs": [],
   "source": [
    "import numpy as np\n",
    "import pandas as pd\n",
    "import matplotlib.pyplot as plt\n",
    "import math\n",
    "from sklearn.linear_model import LinearRegression"
   ]
  },
  {
   "cell_type": "code",
   "execution_count": 16,
   "metadata": {},
   "outputs": [],
   "source": [
    "with open('noisy_acrobot.txt', 'r') as file:\n",
    "    \n",
    "    data_list = []\n",
    "\n",
    "    for line in file:\n",
    "        data_tuple = eval(line.strip())\n",
    "        data_list.append(data_tuple)"
   ]
  },
  {
   "cell_type": "markdown",
   "metadata": {},
   "source": [
    "P1.(ii)"
   ]
  },
  {
   "cell_type": "code",
   "execution_count": 17,
   "metadata": {},
   "outputs": [
    {
     "name": "stdout",
     "output_type": "stream",
     "text": [
      "x is 3.807748, y is 2.982174, and sai is 0.872665\n"
     ]
    }
   ],
   "source": [
    "l1 = 2\n",
    "l2 = 3\n",
    "theta1 = (20/180)*math.pi\n",
    "theta2 = (30/180)*math.pi\n",
    "\n",
    "x = l1*math.cos(theta1) + l2*math.cos(theta1+theta2)\n",
    "y = l1*math.sin(theta1) + l2*math.sin(theta1+theta2)\n",
    "sai = theta1 + theta2\n",
    "\n",
    "print('x is %f, y is %f, and sai is %f' % (x, y, sai))"
   ]
  },
  {
   "cell_type": "markdown",
   "metadata": {},
   "source": [
    "P1.(iii)"
   ]
  },
  {
   "cell_type": "code",
   "execution_count": 18,
   "metadata": {},
   "outputs": [],
   "source": [
    "l1 = 2\n",
    "l2 = 3\n",
    "x = 0.63\n",
    "y = 4.31\n"
   ]
  },
  {
   "cell_type": "markdown",
   "metadata": {},
   "source": [
    "First Solution:"
   ]
  },
  {
   "cell_type": "code",
   "execution_count": 19,
   "metadata": {},
   "outputs": [
    {
     "name": "stdout",
     "output_type": "stream",
     "text": [
      "theta1 is 45.003138, theta2 is 60.148747\n"
     ]
    }
   ],
   "source": [
    "\n",
    "theta2 = (math.acos((x**2+y**2-l1**2-l2**2)/(2*l1*l2)))\n",
    "theta1 = (math.atan(y/x)-math.atan((l2*math.sin(theta2))/(l1+l2*math.cos(theta2))))\n",
    "\n",
    "print('theta1 is %f, theta2 is %f' % (theta1/math.pi*180, theta2/math.pi*180))"
   ]
  },
  {
   "cell_type": "markdown",
   "metadata": {},
   "source": [
    "Second Solution:"
   ]
  },
  {
   "cell_type": "code",
   "execution_count": 20,
   "metadata": {},
   "outputs": [
    {
     "name": "stdout",
     "output_type": "stream",
     "text": [
      "theta1 is 118.364608, theta2 is -60.148747\n"
     ]
    }
   ],
   "source": [
    "theta2 = -(math.acos((x**2+y**2-l1**2-l2**2)/(2*l1*l2)))\n",
    "theta1 = (math.atan(y/x)-math.atan((l2*math.sin(theta2))/(l1+l2*math.cos(theta2))))\n",
    "\n",
    "print('theta1 is %f, theta2 is %f' % (theta1/math.pi*180, theta2/math.pi*180))"
   ]
  },
  {
   "cell_type": "markdown",
   "metadata": {},
   "source": [
    "P1.(iv)"
   ]
  },
  {
   "cell_type": "code",
   "execution_count": 21,
   "metadata": {},
   "outputs": [
    {
     "name": "stdout",
     "output_type": "stream",
     "text": [
      "[6.00277195 6.02791949]\n"
     ]
    }
   ],
   "source": [
    "x1 = np.zeros(100)\n",
    "x2 = np.zeros(100)\n",
    "x = np.zeros(100)\n",
    "\n",
    "for k in range(100):\n",
    "    x1[k] = math.cos(data_list[k][0])\n",
    "    x2[k] = math.cos(data_list[k][0]+data_list[k][1])\n",
    "    x[k] = data_list[k][2]\n",
    "\n",
    "X = np.column_stack((x1, x2))\n",
    "\n",
    "model = LinearRegression(fit_intercept = False)\n",
    "model.fit(X, x)\n",
    "pred1 = model.coef_\n",
    "print(pred1)"
   ]
  },
  {
   "cell_type": "code",
   "execution_count": 22,
   "metadata": {},
   "outputs": [
    {
     "name": "stdout",
     "output_type": "stream",
     "text": [
      "[6.06301587 6.05216384]\n"
     ]
    }
   ],
   "source": [
    "x1 = np.zeros(100)\n",
    "x2 = np.zeros(100)\n",
    "x = np.zeros(100)\n",
    "y = np.zeros(100)\n",
    "for k in range(100):\n",
    "    x1[k] = math.sin(data_list[k][0])\n",
    "    x2[k] = math.sin(data_list[k][0]+data_list[k][1])\n",
    "    y[k] = data_list[k][3]\n",
    "\n",
    "X = np.column_stack((x1, x2))\n",
    "\n",
    "model = LinearRegression(fit_intercept = False)\n",
    "model.fit(X, y)\n",
    "pred2 = model.coef_\n",
    "print(pred2)"
   ]
  },
  {
   "cell_type": "markdown",
   "metadata": {},
   "source": [
    "final approximation:"
   ]
  },
  {
   "cell_type": "code",
   "execution_count": 23,
   "metadata": {},
   "outputs": [
    {
     "name": "stdout",
     "output_type": "stream",
     "text": [
      "l1 is 6.032894, and l2 is 6.040042\n"
     ]
    }
   ],
   "source": [
    "l1 = (pred1[0]+pred2[0])/2\n",
    "l2 = (pred1[1]+pred2[1])/2\n",
    "\n",
    "print('l1 is %f, and l2 is %f' %(l1, l2))"
   ]
  }
 ],
 "metadata": {
  "kernelspec": {
   "display_name": "Python 3.11.4",
   "language": "python",
   "name": "python3"
  },
  "language_info": {
   "codemirror_mode": {
    "name": "ipython",
    "version": 3
   },
   "file_extension": ".py",
   "mimetype": "text/x-python",
   "name": "python",
   "nbconvert_exporter": "python",
   "pygments_lexer": "ipython3",
   "version": "3.9.10"
  },
  "orig_nbformat": 4,
  "vscode": {
   "interpreter": {
    "hash": "38cca0c38332a56087b24af0bc80247f4fced29cb4f7f437d91dc159adec9c4e"
   }
  }
 },
 "nbformat": 4,
 "nbformat_minor": 2
}
